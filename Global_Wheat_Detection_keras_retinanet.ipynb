{
  "nbformat": 4,
  "nbformat_minor": 0,
  "metadata": {
    "colab": {
      "name": "Global_Wheat_Detection_keras-retinanet.ipynb",
      "provenance": [],
      "collapsed_sections": [],
      "machine_shape": "hm"
    },
    "kernelspec": {
      "name": "python3",
      "display_name": "Python 3"
    },
    "accelerator": "GPU"
  },
  "cells": [
    {
      "cell_type": "code",
      "metadata": {
        "id": "-mLQqKhFZwRU",
        "colab_type": "code",
        "colab": {}
      },
      "source": [
        "# Lets check the available gpu in colab\n",
        "!nvidia-smi"
      ],
      "execution_count": 0,
      "outputs": []
    },
    {
      "cell_type": "code",
      "metadata": {
        "id": "MQ1ZPDL5SXB0",
        "colab_type": "code",
        "colab": {}
      },
      "source": [
        "# For this notebook we are going to use keras - retinanet \n",
        "# Lets install Keras retina-net for the same\n",
        "!git clone https://github.com/fizyr/keras-retinanet.git\n",
        "\n",
        "!pip install --upgrade keras\n",
        "\n",
        "%cd keras-retinanet/\n",
        "!pip install .\n",
        "\n",
        "!python setup.py build_ext --inplace\n",
        "\n",
        "!pip install gdown\n",
        "!pip install tensorflow-gpu"
      ],
      "execution_count": 0,
      "outputs": []
    },
    {
      "cell_type": "code",
      "metadata": {
        "id": "yRiGMpPuLv3I",
        "colab_type": "code",
        "colab": {}
      },
      "source": [
        "# Mount google drive so that we can read data from the drive\n",
        "from google.colab import drive\n",
        "drive.mount('/content/drive')\n",
        "'''\n",
        "# Unmount Drive \n",
        "from google.colab import drive\n",
        "drive.flush_and_unmount()\n",
        "'''"
      ],
      "execution_count": 0,
      "outputs": []
    },
    {
      "cell_type": "code",
      "metadata": {
        "id": "ns4tHV8T5xxi",
        "colab_type": "code",
        "colab": {}
      },
      "source": [
        "# Lets load the required packes required for this problem\n",
        "import numpy as np\n",
        "import tensorflow as tf\n",
        "from tensorflow import keras\n",
        "import pandas as pd\n",
        "import seaborn as sns\n",
        "from pylab import rcParams\n",
        "import matplotlib.pyplot as plt\n",
        "from matplotlib import rc\n",
        "from pandas.plotting import register_matplotlib_converters\n",
        "from sklearn.model_selection import train_test_split\n",
        "import urllib\n",
        "import os\n",
        "import csv\n",
        "import cv2\n",
        "import time\n",
        "from PIL import Image\n",
        "\n",
        "from keras_retinanet import models\n",
        "from keras_retinanet.utils.image import read_image_bgr, preprocess_image, resize_image\n",
        "from keras_retinanet.utils.visualization import draw_box, draw_caption\n",
        "from keras_retinanet.utils.colors import label_color\n",
        "\n",
        "\n",
        "# Lets set some parameters required\n",
        "%matplotlib inline\n",
        "%config InlineBackend.figure_format='retina'\n",
        "\n",
        "register_matplotlib_converters()\n",
        "sns.set(style='whitegrid', palette='muted', font_scale=1.5)\n",
        "\n",
        "rcParams['figure.figsize'] = 22, 10\n",
        "\n",
        "RANDOM_SEED = 42\n",
        "\n",
        "np.random.seed(RANDOM_SEED)\n",
        "tf.random.set_seed(RANDOM_SEED)"
      ],
      "execution_count": 0,
      "outputs": []
    },
    {
      "cell_type": "code",
      "metadata": {
        "id": "vplM4WOz5UXm",
        "colab_type": "code",
        "colab": {}
      },
      "source": [
        "# below are the location of the files\n",
        "root_dir = '/content/drive/My Drive/global-wheat-detection'\n",
        "train_dir = os.path.join(root_dir,'train')\n",
        "test_dir = os.path.join(root_dir,'test')"
      ],
      "execution_count": 0,
      "outputs": []
    },
    {
      "cell_type": "code",
      "metadata": {
        "id": "WFbUpM8j5iBb",
        "colab_type": "code",
        "colab": {}
      },
      "source": [
        "# Lets check the directory and files present\n",
        "\n",
        "for filefolder in os.listdir(root_dir):\n",
        "  print(os.path.join(root_dir,filefolder))"
      ],
      "execution_count": 0,
      "outputs": []
    },
    {
      "cell_type": "code",
      "metadata": {
        "id": "GBQn51oS5uVu",
        "colab_type": "code",
        "colab": {}
      },
      "source": [
        "# Lets read the data and also submission file to understand the data\n",
        "train_df = pd.read_csv('/content/drive/My Drive/global-wheat-detection/train.csv')\n",
        "sample_submit = pd.read_csv('/content/drive/My Drive/global-wheat-detection/sample_submission.csv')"
      ],
      "execution_count": 0,
      "outputs": []
    },
    {
      "cell_type": "markdown",
      "metadata": {
        "id": "YZWLp-yXtW5A",
        "colab_type": "text"
      },
      "source": [
        "#### Below are some basic checkes before starting the problem"
      ]
    },
    {
      "cell_type": "code",
      "metadata": {
        "id": "0uShhfd3vh1X",
        "colab_type": "code",
        "colab": {}
      },
      "source": [
        "sample_submit.tail()"
      ],
      "execution_count": 0,
      "outputs": []
    },
    {
      "cell_type": "code",
      "metadata": {
        "id": "ioxLbspA84YO",
        "colab_type": "code",
        "colab": {}
      },
      "source": [
        "train_df_master = train_df.copy()"
      ],
      "execution_count": 0,
      "outputs": []
    },
    {
      "cell_type": "code",
      "metadata": {
        "id": "cBtFcm5e6qX8",
        "colab_type": "code",
        "outputId": "9815084e-d243-4a33-cadb-517cdaddaace",
        "colab": {
          "base_uri": "https://localhost:8080/",
          "height": 35
        }
      },
      "source": [
        "train_df.columns"
      ],
      "execution_count": 0,
      "outputs": [
        {
          "output_type": "execute_result",
          "data": {
            "text/plain": [
              "Index(['image_id', 'width', 'height', 'bbox', 'source'], dtype='object')"
            ]
          },
          "metadata": {
            "tags": []
          },
          "execution_count": 12
        }
      ]
    },
    {
      "cell_type": "code",
      "metadata": {
        "id": "wdM6iN456skM",
        "colab_type": "code",
        "outputId": "7d9afea8-6323-4f0f-9371-a2a03a894eba",
        "colab": {
          "base_uri": "https://localhost:8080/",
          "height": 35
        }
      },
      "source": [
        "train_df.shape"
      ],
      "execution_count": 0,
      "outputs": [
        {
          "output_type": "execute_result",
          "data": {
            "text/plain": [
              "(147793, 5)"
            ]
          },
          "metadata": {
            "tags": []
          },
          "execution_count": 13
        }
      ]
    },
    {
      "cell_type": "code",
      "metadata": {
        "id": "aHRvqQUu8VO3",
        "colab_type": "code",
        "colab": {}
      },
      "source": [
        "train_df.dtypes"
      ],
      "execution_count": 0,
      "outputs": []
    },
    {
      "cell_type": "code",
      "metadata": {
        "id": "XaY48mb56x5-",
        "colab_type": "code",
        "colab": {}
      },
      "source": [
        "# We can see from the min and max values all the images are of 1024x1024\n",
        "train_df.describe()"
      ],
      "execution_count": 0,
      "outputs": []
    },
    {
      "cell_type": "code",
      "metadata": {
        "id": "mnKp-aYv67G5",
        "colab_type": "code",
        "outputId": "087885cf-afac-4d77-dfbf-b65f2a68dd1a",
        "colab": {
          "base_uri": "https://localhost:8080/",
          "height": 124
        }
      },
      "source": [
        "train_df.isnull().sum()"
      ],
      "execution_count": 0,
      "outputs": [
        {
          "output_type": "execute_result",
          "data": {
            "text/plain": [
              "image_id    0\n",
              "width       0\n",
              "height      0\n",
              "bbox        0\n",
              "source      0\n",
              "dtype: int64"
            ]
          },
          "metadata": {
            "tags": []
          },
          "execution_count": 16
        }
      ]
    },
    {
      "cell_type": "code",
      "metadata": {
        "id": "7BB46Qmz6mE-",
        "colab_type": "code",
        "outputId": "1073e45b-e1f1-441c-cc26-c9a5377e898d",
        "colab": {
          "base_uri": "https://localhost:8080/",
          "height": 194
        }
      },
      "source": [
        "train_df.head()"
      ],
      "execution_count": 0,
      "outputs": [
        {
          "output_type": "execute_result",
          "data": {
            "text/html": [
              "<div>\n",
              "<style scoped>\n",
              "    .dataframe tbody tr th:only-of-type {\n",
              "        vertical-align: middle;\n",
              "    }\n",
              "\n",
              "    .dataframe tbody tr th {\n",
              "        vertical-align: top;\n",
              "    }\n",
              "\n",
              "    .dataframe thead th {\n",
              "        text-align: right;\n",
              "    }\n",
              "</style>\n",
              "<table border=\"1\" class=\"dataframe\">\n",
              "  <thead>\n",
              "    <tr style=\"text-align: right;\">\n",
              "      <th></th>\n",
              "      <th>image_id</th>\n",
              "      <th>width</th>\n",
              "      <th>height</th>\n",
              "      <th>bbox</th>\n",
              "      <th>source</th>\n",
              "    </tr>\n",
              "  </thead>\n",
              "  <tbody>\n",
              "    <tr>\n",
              "      <th>0</th>\n",
              "      <td>b6ab77fd7</td>\n",
              "      <td>1024</td>\n",
              "      <td>1024</td>\n",
              "      <td>[834.0, 222.0, 56.0, 36.0]</td>\n",
              "      <td>usask_1</td>\n",
              "    </tr>\n",
              "    <tr>\n",
              "      <th>1</th>\n",
              "      <td>b6ab77fd7</td>\n",
              "      <td>1024</td>\n",
              "      <td>1024</td>\n",
              "      <td>[226.0, 548.0, 130.0, 58.0]</td>\n",
              "      <td>usask_1</td>\n",
              "    </tr>\n",
              "    <tr>\n",
              "      <th>2</th>\n",
              "      <td>b6ab77fd7</td>\n",
              "      <td>1024</td>\n",
              "      <td>1024</td>\n",
              "      <td>[377.0, 504.0, 74.0, 160.0]</td>\n",
              "      <td>usask_1</td>\n",
              "    </tr>\n",
              "    <tr>\n",
              "      <th>3</th>\n",
              "      <td>b6ab77fd7</td>\n",
              "      <td>1024</td>\n",
              "      <td>1024</td>\n",
              "      <td>[834.0, 95.0, 109.0, 107.0]</td>\n",
              "      <td>usask_1</td>\n",
              "    </tr>\n",
              "    <tr>\n",
              "      <th>4</th>\n",
              "      <td>b6ab77fd7</td>\n",
              "      <td>1024</td>\n",
              "      <td>1024</td>\n",
              "      <td>[26.0, 144.0, 124.0, 117.0]</td>\n",
              "      <td>usask_1</td>\n",
              "    </tr>\n",
              "  </tbody>\n",
              "</table>\n",
              "</div>"
            ],
            "text/plain": [
              "    image_id  width  height                         bbox   source\n",
              "0  b6ab77fd7   1024    1024   [834.0, 222.0, 56.0, 36.0]  usask_1\n",
              "1  b6ab77fd7   1024    1024  [226.0, 548.0, 130.0, 58.0]  usask_1\n",
              "2  b6ab77fd7   1024    1024  [377.0, 504.0, 74.0, 160.0]  usask_1\n",
              "3  b6ab77fd7   1024    1024  [834.0, 95.0, 109.0, 107.0]  usask_1\n",
              "4  b6ab77fd7   1024    1024  [26.0, 144.0, 124.0, 117.0]  usask_1"
            ]
          },
          "metadata": {
            "tags": []
          },
          "execution_count": 17
        }
      ]
    },
    {
      "cell_type": "code",
      "metadata": {
        "id": "GphWPvHa6oKn",
        "colab_type": "code",
        "colab": {}
      },
      "source": [
        "# Below are the distribution of labels in the dataset \n",
        "plt.figure(figsize=(10,5))\n",
        "sns.countplot('source',data=train_df)\n",
        "plt.show()"
      ],
      "execution_count": 0,
      "outputs": []
    },
    {
      "cell_type": "code",
      "metadata": {
        "id": "t_jg4mZg8Otx",
        "colab_type": "code",
        "colab": {}
      },
      "source": [
        "# Remove braces from bbox\n",
        "train_df['bbox'] = train_df.bbox.str.replace('[','')\n",
        "train_df['bbox'] = train_df.bbox.str.replace(']','')"
      ],
      "execution_count": 0,
      "outputs": []
    },
    {
      "cell_type": "code",
      "metadata": {
        "id": "mD6T1jVZ8St4",
        "colab_type": "code",
        "colab": {}
      },
      "source": [
        "# Creating different coordinates require for image localization\n",
        "train_df['x'] = train_df.bbox.str.split(',').str[0].astype(np.float)\n",
        "train_df['y'] = train_df.bbox.str.split(',').str[1].astype(np.float)\n",
        "train_df['w'] = train_df.bbox.str.split(',').str[2].astype(np.float)\n",
        "train_df['h'] = train_df.bbox.str.split(',').str[3].astype(np.float)"
      ],
      "execution_count": 0,
      "outputs": []
    },
    {
      "cell_type": "code",
      "metadata": {
        "id": "BC3Lk-Mp5-NA",
        "colab_type": "code",
        "colab": {}
      },
      "source": [
        "train_df['x'] = train_df['x'].astype(int)\n",
        "train_df['y'] = train_df['y'].astype(int)\n",
        "train_df['w'] = train_df['w'].astype(int)\n",
        "train_df['h'] = train_df['h'].astype(int)"
      ],
      "execution_count": 0,
      "outputs": []
    },
    {
      "cell_type": "code",
      "metadata": {
        "id": "c3mXzuXq9F6V",
        "colab_type": "code",
        "outputId": "8857c7b1-12b5-42a9-a63d-7578154bf6bf",
        "colab": {
          "base_uri": "https://localhost:8080/",
          "height": 194
        }
      },
      "source": [
        "train_df.head()"
      ],
      "execution_count": 0,
      "outputs": [
        {
          "output_type": "execute_result",
          "data": {
            "text/html": [
              "<div>\n",
              "<style scoped>\n",
              "    .dataframe tbody tr th:only-of-type {\n",
              "        vertical-align: middle;\n",
              "    }\n",
              "\n",
              "    .dataframe tbody tr th {\n",
              "        vertical-align: top;\n",
              "    }\n",
              "\n",
              "    .dataframe thead th {\n",
              "        text-align: right;\n",
              "    }\n",
              "</style>\n",
              "<table border=\"1\" class=\"dataframe\">\n",
              "  <thead>\n",
              "    <tr style=\"text-align: right;\">\n",
              "      <th></th>\n",
              "      <th>image_id</th>\n",
              "      <th>width</th>\n",
              "      <th>height</th>\n",
              "      <th>bbox</th>\n",
              "      <th>source</th>\n",
              "      <th>x</th>\n",
              "      <th>y</th>\n",
              "      <th>w</th>\n",
              "      <th>h</th>\n",
              "    </tr>\n",
              "  </thead>\n",
              "  <tbody>\n",
              "    <tr>\n",
              "      <th>0</th>\n",
              "      <td>b6ab77fd7</td>\n",
              "      <td>1024</td>\n",
              "      <td>1024</td>\n",
              "      <td>834.0, 222.0, 56.0, 36.0</td>\n",
              "      <td>usask_1</td>\n",
              "      <td>834</td>\n",
              "      <td>222</td>\n",
              "      <td>56</td>\n",
              "      <td>36</td>\n",
              "    </tr>\n",
              "    <tr>\n",
              "      <th>1</th>\n",
              "      <td>b6ab77fd7</td>\n",
              "      <td>1024</td>\n",
              "      <td>1024</td>\n",
              "      <td>226.0, 548.0, 130.0, 58.0</td>\n",
              "      <td>usask_1</td>\n",
              "      <td>226</td>\n",
              "      <td>548</td>\n",
              "      <td>130</td>\n",
              "      <td>58</td>\n",
              "    </tr>\n",
              "    <tr>\n",
              "      <th>2</th>\n",
              "      <td>b6ab77fd7</td>\n",
              "      <td>1024</td>\n",
              "      <td>1024</td>\n",
              "      <td>377.0, 504.0, 74.0, 160.0</td>\n",
              "      <td>usask_1</td>\n",
              "      <td>377</td>\n",
              "      <td>504</td>\n",
              "      <td>74</td>\n",
              "      <td>160</td>\n",
              "    </tr>\n",
              "    <tr>\n",
              "      <th>3</th>\n",
              "      <td>b6ab77fd7</td>\n",
              "      <td>1024</td>\n",
              "      <td>1024</td>\n",
              "      <td>834.0, 95.0, 109.0, 107.0</td>\n",
              "      <td>usask_1</td>\n",
              "      <td>834</td>\n",
              "      <td>95</td>\n",
              "      <td>109</td>\n",
              "      <td>107</td>\n",
              "    </tr>\n",
              "    <tr>\n",
              "      <th>4</th>\n",
              "      <td>b6ab77fd7</td>\n",
              "      <td>1024</td>\n",
              "      <td>1024</td>\n",
              "      <td>26.0, 144.0, 124.0, 117.0</td>\n",
              "      <td>usask_1</td>\n",
              "      <td>26</td>\n",
              "      <td>144</td>\n",
              "      <td>124</td>\n",
              "      <td>117</td>\n",
              "    </tr>\n",
              "  </tbody>\n",
              "</table>\n",
              "</div>"
            ],
            "text/plain": [
              "    image_id  width  height                       bbox  ...    x    y    w    h\n",
              "0  b6ab77fd7   1024    1024   834.0, 222.0, 56.0, 36.0  ...  834  222   56   36\n",
              "1  b6ab77fd7   1024    1024  226.0, 548.0, 130.0, 58.0  ...  226  548  130   58\n",
              "2  b6ab77fd7   1024    1024  377.0, 504.0, 74.0, 160.0  ...  377  504   74  160\n",
              "3  b6ab77fd7   1024    1024  834.0, 95.0, 109.0, 107.0  ...  834   95  109  107\n",
              "4  b6ab77fd7   1024    1024  26.0, 144.0, 124.0, 117.0  ...   26  144  124  117\n",
              "\n",
              "[5 rows x 9 columns]"
            ]
          },
          "metadata": {
            "tags": []
          },
          "execution_count": 22
        }
      ]
    },
    {
      "cell_type": "code",
      "metadata": {
        "id": "thw_mDA_9hId",
        "colab_type": "code",
        "colab": {}
      },
      "source": [
        "# Below function will show the actual images\n",
        "def view_actual_image(image_id):\n",
        "  train_path = os.path.join(root_dir,'train')\n",
        "  img = cv2.imread(train_path+'/{}.jpg'.format(image_id))\n",
        "  img = cv2.cvtColor(img, cv2.cv2.IMREAD_COLOR)\n",
        "  plt.figure(figsize=(8,8))\n",
        "  plt.imshow(img)"
      ],
      "execution_count": 0,
      "outputs": []
    },
    {
      "cell_type": "code",
      "metadata": {
        "id": "IA3jvtO2K3xl",
        "colab_type": "code",
        "colab": {}
      },
      "source": [
        "view_actual_image('b6ab77fd7')"
      ],
      "execution_count": 0,
      "outputs": []
    },
    {
      "cell_type": "code",
      "metadata": {
        "id": "qrTva0bdK6w8",
        "colab_type": "code",
        "colab": {}
      },
      "source": [
        "# This finction will help to draw bounding box in actual image\n",
        "\n",
        "def view_bb_image(row_data):\n",
        "  train_path = os.path.join(root_dir,'train')\n",
        "  img = cv2.imread(train_path+'/{}.jpg'.format(row_data.iloc[0].values[0]))\n",
        "  # img = cv2.resize(img,(224,224))\n",
        "  img = cv2.cvtColor(img, cv2.COLOR_BGR2GRAY)\n",
        "  for i,record in row_data.iterrows():\n",
        "    cv2.rectangle(img,(int(record['x']), int(record['y'])),\n",
        "                  (int(record['x']) + int(record['w']), \n",
        "                   int(record['y']) + int(record['h'])),\n",
        "                  (220, 0, 0), 3)\n",
        "  plt.figure(figsize=(8,8))\n",
        "  plt.imshow(img)"
      ],
      "execution_count": 0,
      "outputs": []
    },
    {
      "cell_type": "code",
      "metadata": {
        "id": "3xpd4FYUM8ov",
        "colab_type": "code",
        "colab": {}
      },
      "source": [
        "view_bb_image(train_df[train_df.image_id=='b6ab77fd7'])"
      ],
      "execution_count": 0,
      "outputs": []
    },
    {
      "cell_type": "code",
      "metadata": {
        "id": "6Z6bEoZ4PeX6",
        "colab_type": "code",
        "colab": {}
      },
      "source": [
        "view_bb_image(train_df[train_df.image_id=='ffdf83e42'])"
      ],
      "execution_count": 0,
      "outputs": []
    },
    {
      "cell_type": "code",
      "metadata": {
        "id": "GXrAZCJ6zaFN",
        "colab_type": "code",
        "colab": {}
      },
      "source": [
        "#Rename the columns\n",
        "train_df_required = train_df[['image_id','x','y','w','h']]"
      ],
      "execution_count": 0,
      "outputs": []
    },
    {
      "cell_type": "code",
      "metadata": {
        "id": "aMKZA4G3fRkA",
        "colab_type": "code",
        "colab": {}
      },
      "source": [
        "train_df_required['class_name'] = 'wheat_head'"
      ],
      "execution_count": 0,
      "outputs": []
    },
    {
      "cell_type": "code",
      "metadata": {
        "id": "FerUYGcl9Kbu",
        "colab_type": "code",
        "colab": {}
      },
      "source": [
        "train_df_required['w'] = train_df_required.x + train_df_required.w\n",
        "train_df_required['h'] = train_df_required.y + train_df_required.h"
      ],
      "execution_count": 0,
      "outputs": []
    },
    {
      "cell_type": "code",
      "metadata": {
        "id": "340xrHSMcrAl",
        "colab_type": "code",
        "colab": {}
      },
      "source": [
        "# As this algorithm donot expect w & h so better convert to (X_max,Y_max) this is done in the above step\n",
        "train_df_required.columns = ['image_name','x_min','y_min','x_max','y_max','class_name']"
      ],
      "execution_count": 0,
      "outputs": []
    },
    {
      "cell_type": "code",
      "metadata": {
        "id": "DHPerhbb908j",
        "colab_type": "code",
        "colab": {}
      },
      "source": [
        "train_df_required.head()"
      ],
      "execution_count": 0,
      "outputs": []
    },
    {
      "cell_type": "code",
      "metadata": {
        "id": "t9fDQQnvUH4L",
        "colab_type": "code",
        "outputId": "bd861f3a-fc9c-4ead-d259-c7b312b4e773",
        "colab": {
          "base_uri": "https://localhost:8080/",
          "height": 35
        }
      },
      "source": [
        "train_dir"
      ],
      "execution_count": 0,
      "outputs": [
        {
          "output_type": "execute_result",
          "data": {
            "text/plain": [
              "'/content/drive/My Drive/global-wheat-detection/train'"
            ]
          },
          "metadata": {
            "tags": []
          },
          "execution_count": 32
        }
      ]
    },
    {
      "cell_type": "markdown",
      "metadata": {
        "id": "rIfmaBShuhvz",
        "colab_type": "text"
      },
      "source": [
        "### Below teps are required preprocessing step as per model documentation"
      ]
    },
    {
      "cell_type": "code",
      "metadata": {
        "id": "xZs9kfZ6UqeM",
        "colab_type": "code",
        "colab": {}
      },
      "source": [
        "train_df_required['image_name'] = train_dir+'/'+train_df_required['image_name']+'.jpg' "
      ],
      "execution_count": 0,
      "outputs": []
    },
    {
      "cell_type": "code",
      "metadata": {
        "id": "p7KQ8kwLcCTQ",
        "colab_type": "code",
        "colab": {}
      },
      "source": [
        "ANNOTATIONS_FILE = 'annotations.csv'\n",
        "CLASSES_FILE = 'classes.csv'"
      ],
      "execution_count": 0,
      "outputs": []
    },
    {
      "cell_type": "code",
      "metadata": {
        "id": "cPABi8hI3yFJ",
        "colab_type": "code",
        "colab": {}
      },
      "source": [
        "train_df_required.to_csv(ANNOTATIONS_FILE, index=False, header=None)"
      ],
      "execution_count": 0,
      "outputs": []
    },
    {
      "cell_type": "code",
      "metadata": {
        "id": "E-hX1GUV31h-",
        "colab_type": "code",
        "colab": {}
      },
      "source": [
        "classes = set(['wheat_head'])\n",
        "\n",
        "with open(CLASSES_FILE, 'w') as f:\n",
        "  for i, line in enumerate(sorted(classes)):\n",
        "    f.write('{},{}\\n'.format(line,i))"
      ],
      "execution_count": 0,
      "outputs": []
    },
    {
      "cell_type": "code",
      "metadata": {
        "id": "8uonacea339y",
        "colab_type": "code",
        "outputId": "e0ee0a3f-d07d-467b-b361-34eea305428a",
        "colab": {
          "base_uri": "https://localhost:8080/",
          "height": 35
        }
      },
      "source": [
        "!head classes.csv"
      ],
      "execution_count": 0,
      "outputs": [
        {
          "output_type": "stream",
          "text": [
            "wheat_head,0\n"
          ],
          "name": "stdout"
        }
      ]
    },
    {
      "cell_type": "code",
      "metadata": {
        "id": "X7UyckDr3-Yr",
        "colab_type": "code",
        "colab": {}
      },
      "source": [
        "!head annotations.csv"
      ],
      "execution_count": 0,
      "outputs": []
    },
    {
      "cell_type": "code",
      "metadata": {
        "id": "qwZQC0C_4EVY",
        "colab_type": "code",
        "outputId": "f21b39cf-bb0c-42f4-bf57-cd805f65d10d",
        "colab": {
          "base_uri": "https://localhost:8080/",
          "height": 35
        }
      },
      "source": [
        "# We will use pretrained model as a base model for trainng\n",
        "PRETRAINED_MODEL = './snapshots/_pretrained_model.h5'\n",
        "\n",
        "URL_MODEL = 'https://github.com/fizyr/keras-retinanet/releases/download/0.5.1/resnet50_coco_best_v2.1.0.h5'\n",
        "urllib.request.urlretrieve(URL_MODEL, PRETRAINED_MODEL)\n",
        "\n",
        "print('Downloaded pretrained model to ' + PRETRAINED_MODEL)"
      ],
      "execution_count": 0,
      "outputs": [
        {
          "output_type": "stream",
          "text": [
            "Downloaded pretrained model to ./snapshots/_pretrained_model.h5\n"
          ],
          "name": "stdout"
        }
      ]
    },
    {
      "cell_type": "code",
      "metadata": {
        "id": "yYa-ho0Q4KIm",
        "colab_type": "code",
        "colab": {}
      },
      "source": [
        "# This is model training step be careful with the number of epochs , It takes a huge time to tain\n",
        "!keras_retinanet/bin/train.py \\\n",
        "  --freeze-backbone \\\n",
        "  --random-transform \\\n",
        "  --weights {PRETRAINED_MODEL} \\\n",
        "  --batch-size 8 \\\n",
        "  --steps 500 \\\n",
        "  --epochs 5 csv annotations.csv classes.csv"
      ],
      "execution_count": 0,
      "outputs": []
    },
    {
      "cell_type": "code",
      "metadata": {
        "id": "bH-HLcJC4ONE",
        "colab_type": "code",
        "outputId": "861fc148-c585-4e50-aece-504eb09c35a4",
        "colab": {
          "base_uri": "https://localhost:8080/",
          "height": 35
        }
      },
      "source": [
        "!ls snapshots"
      ],
      "execution_count": 0,
      "outputs": [
        {
          "output_type": "stream",
          "text": [
            "_pretrained_model.h5\n"
          ],
          "name": "stdout"
        }
      ]
    },
    {
      "cell_type": "code",
      "metadata": {
        "id": "-VOoyDo4DjPF",
        "colab_type": "code",
        "colab": {}
      },
      "source": [
        "# Loading the model\n",
        "model_path = os.path.join('snapshots', sorted(os.listdir('snapshots'), reverse=True)[0])\n",
        "# model_path = '/content/drive/My Drive/global-wheat-detection/resnet50_csv_05.h5'\n",
        "print(model_path)\n",
        "\n",
        "model = models.load_model(model_path, backbone_name='resnet50')\n",
        "model = models.convert_model(model)\n",
        "\n",
        "labels_to_names = pd.read_csv(CLASSES_FILE, header=None).T.loc[0].to_dict()"
      ],
      "execution_count": 0,
      "outputs": []
    },
    {
      "cell_type": "code",
      "metadata": {
        "id": "VmYTra9t3sWf",
        "colab_type": "code",
        "colab": {}
      },
      "source": [
        "# Creating a test set for passing it to model consist of path of the images \n",
        "test_df = []\n",
        "for img in os.listdir(test_dir):\n",
        "  test_df.append(os.path.join(test_dir,img))"
      ],
      "execution_count": 0,
      "outputs": []
    },
    {
      "cell_type": "code",
      "metadata": {
        "id": "ZV4KXkeK36a-",
        "colab_type": "code",
        "colab": {}
      },
      "source": [
        "test_df = pd.DataFrame(test_df)"
      ],
      "execution_count": 0,
      "outputs": []
    },
    {
      "cell_type": "code",
      "metadata": {
        "id": "TeAm0xD34Bfo",
        "colab_type": "code",
        "colab": {}
      },
      "source": [
        "test_df.columns=['image_name']"
      ],
      "execution_count": 0,
      "outputs": []
    },
    {
      "cell_type": "markdown",
      "metadata": {
        "id": "o8Id85tSvb9y",
        "colab_type": "text"
      },
      "source": [
        "#### Below function are required for the image prediction"
      ]
    },
    {
      "cell_type": "code",
      "metadata": {
        "id": "Lfx7aOqmyv6Q",
        "colab_type": "code",
        "colab": {}
      },
      "source": [
        "def predict(image):\n",
        "  image = preprocess_image(image.copy())\n",
        "  image, scale = resize_image(image)\n",
        "\n",
        "  boxes, scores, labels = model.predict_on_batch(\n",
        "    np.expand_dims(image, axis=0)\n",
        "  )\n",
        "\n",
        "  boxes /= scale\n",
        "\n",
        "  return boxes, scores, labels"
      ],
      "execution_count": 0,
      "outputs": []
    },
    {
      "cell_type": "code",
      "metadata": {
        "id": "IYCrHXdm6h0H",
        "colab_type": "code",
        "colab": {}
      },
      "source": [
        "THRES_SCORE = 0.6\n",
        "def draw_detections(image, boxes, scores, labels):\n",
        "  for box, score, label in zip(boxes[0], scores[0], labels[0]):\n",
        "    if score < THRES_SCORE:\n",
        "        break\n",
        "\n",
        "    color = label_color(label)\n",
        "\n",
        "    b = box.astype(int)\n",
        "    draw_box(image, b, color=color)\n",
        "\n",
        "    caption = \"{} {:.3f}\".format(labels_to_names[label], score)\n",
        "    draw_caption(image, b, caption)"
      ],
      "execution_count": 0,
      "outputs": []
    },
    {
      "cell_type": "code",
      "metadata": {
        "id": "dz8-E_Tk4YQV",
        "colab_type": "code",
        "colab": {}
      },
      "source": [
        "output = []\n",
        "def show_detected_objects(image_row):\n",
        "  img_path = image_row.image_name\n",
        "  \n",
        "  image = read_image_bgr(img_path)\n",
        "\n",
        "  boxes, scores, labels = predict(image)\n",
        "  # output.append(boxes)\n",
        "  # return(output)\n",
        "\n",
        "\n",
        "  draw = image.copy()\n",
        "  draw = cv2.cvtColor(draw, cv2.COLOR_BGR2RGB)\n",
        "\n",
        "  draw_detections(draw, boxes, scores, labels)\n",
        "\n",
        "  plt.axis('off')\n",
        "  plt.imshow(draw)\n",
        "  plt.show()"
      ],
      "execution_count": 0,
      "outputs": []
    },
    {
      "cell_type": "code",
      "metadata": {
        "id": "6U3O4KoV6LP0",
        "colab_type": "code",
        "colab": {}
      },
      "source": [
        "# Lets see how our model is predicting\n",
        "for i in range(0,len(test_df)):\n",
        "  show_detected_objects(test_df.iloc[i])"
      ],
      "execution_count": 0,
      "outputs": []
    },
    {
      "cell_type": "code",
      "metadata": {
        "id": "zaWMBMKxEBD0",
        "colab_type": "code",
        "colab": {}
      },
      "source": [
        "# Below are steps to be followed to get the BBOX Coordinates\n",
        "preds=[]\n",
        "imgid=[]\n",
        "for img in os.listdir(test_dir):\n",
        "    image = read_image_bgr(os.path.join(test_dir,img))\n",
        "    boxes, scores, labels = predict(image)\n",
        "    boxes=boxes[0]\n",
        "    scores=scores[0]\n",
        "    for idx in range(boxes.shape[0]):\n",
        "        if scores[idx]>THRES_SCORE:\n",
        "            box,score=boxes[idx],scores[idx]\n",
        "            imgid.append(img.split(\".\")[0])\n",
        "            preds.append(\"{} {} {} {} {}\".format(score, int(box[0]), int(box[1]), int(box[2]-box[0]), int(box[3]-box[1])))"
      ],
      "execution_count": 0,
      "outputs": []
    },
    {
      "cell_type": "code",
      "metadata": {
        "id": "qE-v7o4Sp28-",
        "colab_type": "code",
        "outputId": "ef25022e-b043-4a0c-bcfd-c7dcfb3f0925",
        "colab": {
          "base_uri": "https://localhost:8080/",
          "height": 194
        }
      },
      "source": [
        "sub={\"image_id\":imgid, \"PredictionString\":preds}\n",
        "sub=pd.DataFrame(sub)\n",
        "sub.head()"
      ],
      "execution_count": 0,
      "outputs": [
        {
          "output_type": "execute_result",
          "data": {
            "text/html": [
              "<div>\n",
              "<style scoped>\n",
              "    .dataframe tbody tr th:only-of-type {\n",
              "        vertical-align: middle;\n",
              "    }\n",
              "\n",
              "    .dataframe tbody tr th {\n",
              "        vertical-align: top;\n",
              "    }\n",
              "\n",
              "    .dataframe thead th {\n",
              "        text-align: right;\n",
              "    }\n",
              "</style>\n",
              "<table border=\"1\" class=\"dataframe\">\n",
              "  <thead>\n",
              "    <tr style=\"text-align: right;\">\n",
              "      <th></th>\n",
              "      <th>image_id</th>\n",
              "      <th>PredictionString</th>\n",
              "    </tr>\n",
              "  </thead>\n",
              "  <tbody>\n",
              "    <tr>\n",
              "      <th>0</th>\n",
              "      <td>348a992bb</td>\n",
              "      <td>0.8609244227409363 914 565 84 91</td>\n",
              "    </tr>\n",
              "    <tr>\n",
              "      <th>1</th>\n",
              "      <td>348a992bb</td>\n",
              "      <td>0.8341029286384583 853 851 79 71</td>\n",
              "    </tr>\n",
              "    <tr>\n",
              "      <th>2</th>\n",
              "      <td>348a992bb</td>\n",
              "      <td>0.8312199115753174 934 786 87 83</td>\n",
              "    </tr>\n",
              "    <tr>\n",
              "      <th>3</th>\n",
              "      <td>348a992bb</td>\n",
              "      <td>0.8235329389572144 278 334 88 90</td>\n",
              "    </tr>\n",
              "    <tr>\n",
              "      <th>4</th>\n",
              "      <td>348a992bb</td>\n",
              "      <td>0.8039975166320801 145 39 105 90</td>\n",
              "    </tr>\n",
              "  </tbody>\n",
              "</table>\n",
              "</div>"
            ],
            "text/plain": [
              "    image_id                  PredictionString\n",
              "0  348a992bb  0.8609244227409363 914 565 84 91\n",
              "1  348a992bb  0.8341029286384583 853 851 79 71\n",
              "2  348a992bb  0.8312199115753174 934 786 87 83\n",
              "3  348a992bb  0.8235329389572144 278 334 88 90\n",
              "4  348a992bb  0.8039975166320801 145 39 105 90"
            ]
          },
          "metadata": {
            "tags": []
          },
          "execution_count": 54
        }
      ]
    },
    {
      "cell_type": "code",
      "metadata": {
        "id": "lRifEVJPqNlf",
        "colab_type": "code",
        "colab": {}
      },
      "source": [
        "sub_=sub.groupby([\"image_id\"])['PredictionString'].apply(lambda x: ' '.join(x)).reset_index()\n",
        "sub_"
      ],
      "execution_count": 0,
      "outputs": []
    },
    {
      "cell_type": "code",
      "metadata": {
        "id": "qgtn62PrqePB",
        "colab_type": "code",
        "colab": {}
      },
      "source": [
        "for idx,imgid in enumerate(sample_submit['image_id']):\n",
        "    sample_submit.iloc[idx,1]=sub_[sub_['image_id']==imgid].values[0,1]\n",
        "    \n",
        "sample_submit.head()"
      ],
      "execution_count": 0,
      "outputs": []
    },
    {
      "cell_type": "code",
      "metadata": {
        "id": "-hmELEEPrlPJ",
        "colab_type": "code",
        "colab": {}
      },
      "source": [
        "sample_submit.to_csv('/content/drive/My Drive/global-wheat-detection/submission.csv',index=False)"
      ],
      "execution_count": 0,
      "outputs": []
    },
    {
      "cell_type": "code",
      "metadata": {
        "id": "Vh9AWp_grwJC",
        "colab_type": "code",
        "colab": {}
      },
      "source": [
        ""
      ],
      "execution_count": 0,
      "outputs": []
    }
  ]
}